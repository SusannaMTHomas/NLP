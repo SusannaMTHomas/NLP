{
 "cells": [
  {
   "cell_type": "markdown",
   "id": "646c995c",
   "metadata": {},
   "source": [
    "# News articles classification\n"
   ]
  },
  {
   "cell_type": "markdown",
   "id": "5aab092a",
   "metadata": {},
   "source": [
    "News articles are one of the richest sources of data for many businesses. ABC company wants \n",
    "to build a website and recommend the contents to its users on their web application. So any new\n",
    "article or content is coming they wants to classify that into under one of 5 categories: business, \n",
    "entertainment, politics, sport or tech. As an ML engineer you are required to use a public dataset \n",
    "from the BBC each labelled under one of 5 categories: business, entertainment, politics, sport or \n",
    "tech.\n",
    "The goal will be to build a system that can accurately classify previously unseen news articles \n",
    "into the right category.\n",
    "The Evaluation metric you should use is the accuracy. "
   ]
  },
  {
   "cell_type": "code",
   "execution_count": 1,
   "id": "f1e662b6",
   "metadata": {},
   "outputs": [
    {
     "name": "stderr",
     "output_type": "stream",
     "text": [
      "[nltk_data] Downloading package punkt to\n",
      "[nltk_data]     C:\\Users\\Susanna.Malayil\\AppData\\Roaming\\nltk_data...\n",
      "[nltk_data]   Package punkt is already up-to-date!\n",
      "[nltk_data] Downloading package stopwords to\n",
      "[nltk_data]     C:\\Users\\Susanna.Malayil\\AppData\\Roaming\\nltk_data...\n",
      "[nltk_data]   Package stopwords is already up-to-date!\n",
      "[nltk_data] Downloading package wordnet to\n",
      "[nltk_data]     C:\\Users\\Susanna.Malayil\\AppData\\Roaming\\nltk_data...\n",
      "[nltk_data]   Package wordnet is already up-to-date!\n",
      "[nltk_data] Downloading package omw-1.4 to\n",
      "[nltk_data]     C:\\Users\\Susanna.Malayil\\AppData\\Roaming\\nltk_data...\n",
      "[nltk_data]   Package omw-1.4 is already up-to-date!\n"
     ]
    },
    {
     "data": {
      "text/plain": [
       "True"
      ]
     },
     "execution_count": 1,
     "metadata": {},
     "output_type": "execute_result"
    }
   ],
   "source": [
    "#importing required libraries\n",
    "import pandas as pd\n",
    "import numpy as np\n",
    "import matplotlib.pyplot as plt\n",
    "import re\n",
    "import nltk\n",
    "nltk.download('punkt')\n",
    "nltk.download('stopwords')\n",
    "nltk.download('wordnet')\n",
    "nltk.download('omw-1.4')"
   ]
  },
  {
   "cell_type": "code",
   "execution_count": 2,
   "id": "7db1c226",
   "metadata": {},
   "outputs": [],
   "source": [
    "#storing the dataset to a dataframe named 'data'\n",
    "data=pd.read_csv('BBC News Train.csv')"
   ]
  },
  {
   "cell_type": "code",
   "execution_count": 3,
   "id": "e4859301",
   "metadata": {},
   "outputs": [
    {
     "data": {
      "text/html": [
       "<div>\n",
       "<style scoped>\n",
       "    .dataframe tbody tr th:only-of-type {\n",
       "        vertical-align: middle;\n",
       "    }\n",
       "\n",
       "    .dataframe tbody tr th {\n",
       "        vertical-align: top;\n",
       "    }\n",
       "\n",
       "    .dataframe thead th {\n",
       "        text-align: right;\n",
       "    }\n",
       "</style>\n",
       "<table border=\"1\" class=\"dataframe\">\n",
       "  <thead>\n",
       "    <tr style=\"text-align: right;\">\n",
       "      <th></th>\n",
       "      <th>ArticleId</th>\n",
       "      <th>Text</th>\n",
       "      <th>Category</th>\n",
       "    </tr>\n",
       "  </thead>\n",
       "  <tbody>\n",
       "    <tr>\n",
       "      <th>0</th>\n",
       "      <td>1833</td>\n",
       "      <td>worldcom ex-boss launches defence lawyers defe...</td>\n",
       "      <td>business</td>\n",
       "    </tr>\n",
       "    <tr>\n",
       "      <th>1</th>\n",
       "      <td>154</td>\n",
       "      <td>german business confidence slides german busin...</td>\n",
       "      <td>business</td>\n",
       "    </tr>\n",
       "    <tr>\n",
       "      <th>2</th>\n",
       "      <td>1101</td>\n",
       "      <td>bbc poll indicates economic gloom citizens in ...</td>\n",
       "      <td>business</td>\n",
       "    </tr>\n",
       "    <tr>\n",
       "      <th>3</th>\n",
       "      <td>1976</td>\n",
       "      <td>lifestyle  governs mobile choice  faster  bett...</td>\n",
       "      <td>tech</td>\n",
       "    </tr>\n",
       "    <tr>\n",
       "      <th>4</th>\n",
       "      <td>917</td>\n",
       "      <td>enron bosses in $168m payout eighteen former e...</td>\n",
       "      <td>business</td>\n",
       "    </tr>\n",
       "  </tbody>\n",
       "</table>\n",
       "</div>"
      ],
      "text/plain": [
       "   ArticleId                                               Text  Category\n",
       "0       1833  worldcom ex-boss launches defence lawyers defe...  business\n",
       "1        154  german business confidence slides german busin...  business\n",
       "2       1101  bbc poll indicates economic gloom citizens in ...  business\n",
       "3       1976  lifestyle  governs mobile choice  faster  bett...      tech\n",
       "4        917  enron bosses in $168m payout eighteen former e...  business"
      ]
     },
     "execution_count": 3,
     "metadata": {},
     "output_type": "execute_result"
    }
   ],
   "source": [
    "#displaying the first few rows\n",
    "data.head()"
   ]
  },
  {
   "cell_type": "code",
   "execution_count": 4,
   "id": "f8f694ff",
   "metadata": {},
   "outputs": [
    {
     "data": {
      "text/plain": [
       "(1490, 3)"
      ]
     },
     "execution_count": 4,
     "metadata": {},
     "output_type": "execute_result"
    }
   ],
   "source": [
    "data.shape"
   ]
  },
  {
   "cell_type": "markdown",
   "id": "50875683",
   "metadata": {},
   "source": [
    "There are 1490 observations and 3 features in the dataset."
   ]
  },
  {
   "cell_type": "code",
   "execution_count": 5,
   "id": "0538fe2a",
   "metadata": {},
   "outputs": [
    {
     "name": "stdout",
     "output_type": "stream",
     "text": [
      "<class 'pandas.core.frame.DataFrame'>\n",
      "RangeIndex: 1490 entries, 0 to 1489\n",
      "Data columns (total 3 columns):\n",
      " #   Column     Non-Null Count  Dtype \n",
      "---  ------     --------------  ----- \n",
      " 0   ArticleId  1490 non-null   int64 \n",
      " 1   Text       1490 non-null   object\n",
      " 2   Category   1490 non-null   object\n",
      "dtypes: int64(1), object(2)\n",
      "memory usage: 35.0+ KB\n"
     ]
    }
   ],
   "source": [
    "data.info()"
   ]
  },
  {
   "cell_type": "code",
   "execution_count": 6,
   "id": "7b0acd9c",
   "metadata": {},
   "outputs": [
    {
     "data": {
      "text/plain": [
       "sport            346\n",
       "business         336\n",
       "politics         274\n",
       "entertainment    273\n",
       "tech             261\n",
       "Name: Category, dtype: int64"
      ]
     },
     "execution_count": 6,
     "metadata": {},
     "output_type": "execute_result"
    }
   ],
   "source": [
    "#to find the count of each label\n",
    "data['Category'].value_counts()"
   ]
  },
  {
   "cell_type": "markdown",
   "id": "da6ed149",
   "metadata": {},
   "source": [
    "There are five classes and are almost balanced."
   ]
  },
  {
   "cell_type": "markdown",
   "id": "604d91cf",
   "metadata": {},
   "source": [
    "## Preprocessing "
   ]
  },
  {
   "cell_type": "code",
   "execution_count": 7,
   "id": "4bcfbab7",
   "metadata": {},
   "outputs": [
    {
     "data": {
      "text/plain": [
       "0    346\n",
       "1    336\n",
       "2    274\n",
       "3    273\n",
       "4    261\n",
       "Name: Category, dtype: int64"
      ]
     },
     "execution_count": 7,
     "metadata": {},
     "output_type": "execute_result"
    }
   ],
   "source": [
    "#encoding the dependent feature\n",
    "data['Category']=data['Category'].map({'sport':0,'business':1,'politics':2,'entertainment':3,'tech':4})\n",
    "data['Category'].value_counts()"
   ]
  },
  {
   "cell_type": "code",
   "execution_count": 8,
   "id": "77914055",
   "metadata": {},
   "outputs": [],
   "source": [
    "#defining a few functions to clean the text\n",
    "#to convert text to lower case\n",
    "def lower_case(text):\n",
    "  return text.lower()\n",
    "\n",
    "#to remove special characters\n",
    "def remove_special_characters(text, remove_digits=True):\n",
    "    pattern=r'[^a-zA-z0-9\\s]'\n",
    "    text=re.sub(pattern,'',text)\n",
    "    text = re.sub(r\"[^A-Za-z0-9^,!.\\/'+-=]\", \" \", text)\n",
    "    text = re.sub(r\"what's\", \"what is \", text)\n",
    "    text = re.sub(r\"\\'s\", \" \", text)\n",
    "    text = re.sub(r\"\\'ve\", \" have \", text)\n",
    "    text = re.sub(r\"can't\", \"cannot \", text)\n",
    "    text = re.sub(r\"n't\", \" not \", text)\n",
    "    text = re.sub(r\"I'm\", \"i am \", text)\n",
    "    text = re.sub(r\"\\'re\", \" are \", text)\n",
    "    text = re.sub(r\"\\'d\", \" would \", text)\n",
    "    text = re.sub(r\"\\'ll\", \" will \", text)\n",
    "    text = re.sub(r\",\", \" \", text)\n",
    "    text = re.sub(r\"\\.\", \" \", text)\n",
    "    text = re.sub(r\"!\", \" ! \", text)\n",
    "    text = re.sub(r\"\\^^\", \"\", text)\n",
    "    text = re.sub(r\"\\/\", \" \", text)\n",
    "    text = re.sub(r\"\\^\", \" ^ \", text)\n",
    "    text = re.sub(r\"\\+\", \" + \", text)\n",
    "    text = re.sub(r\"\\-\", \" - \", text)\n",
    "    text = re.sub(r\"\\=\", \" = \", text)\n",
    "    text = re.sub(r\"'\", \" \", text)\n",
    "    return text\n",
    "\n",
    "#to correct spellings\n",
    "from autocorrect import Speller\n",
    "spell=Speller(lang='en')\n",
    "from nltk.tokenize import word_tokenize\n",
    "def correct_spell(text):\n",
    "  sent_corr=''.join([spell(word) for word in word_tokenize(text)])\n",
    "  return sent_corr\n",
    "\n",
    "#lemmatizing the text\n",
    "from nltk.stem.wordnet import WordNetLemmatizer\n",
    "def lemmatize(text):\n",
    "    lemma=WordNetLemmatizer()\n",
    "    text= ' '.join([lemma.lemmatize(word) for word in text.split()])\n",
    "    return text\n",
    "\n",
    "#to remove stopwords\n",
    "#Setting English stopwords\n",
    "from sklearn.feature_extraction.text import TfidfVectorizer, ENGLISH_STOP_WORDS\n",
    "stopword_list=nltk.corpus.stopwords.words('english')\n",
    "#removing the stopwords\n",
    "def remove_stopwords(text, is_lower_case=False):\n",
    "    tokens = word_tokenize(text)\n",
    "    tokens = [token.strip() for token in tokens]\n",
    "    filtered_text = ' '.join([token for token in tokens if token not in stopword_list])   \n",
    "    return filtered_text"
   ]
  },
  {
   "cell_type": "code",
   "execution_count": 9,
   "id": "5167b7c6",
   "metadata": {},
   "outputs": [],
   "source": [
    "#applying the cleaning functions \n",
    "data['Text']=data['Text'].apply(lower_case)\n",
    "data['Text']=data['Text'].apply(remove_special_characters)\n",
    "#data['Text']=data['Text'].apply(correct_spell)\n",
    "data['Text']=data['Text'].apply(lemmatize)\n",
    "data['Text']=data['Text'].apply(remove_stopwords)"
   ]
  },
  {
   "cell_type": "code",
   "execution_count": 10,
   "id": "3a6c11bd",
   "metadata": {},
   "outputs": [
    {
     "data": {
      "text/html": [
       "<div>\n",
       "<style scoped>\n",
       "    .dataframe tbody tr th:only-of-type {\n",
       "        vertical-align: middle;\n",
       "    }\n",
       "\n",
       "    .dataframe tbody tr th {\n",
       "        vertical-align: top;\n",
       "    }\n",
       "\n",
       "    .dataframe thead th {\n",
       "        text-align: right;\n",
       "    }\n",
       "</style>\n",
       "<table border=\"1\" class=\"dataframe\">\n",
       "  <thead>\n",
       "    <tr style=\"text-align: right;\">\n",
       "      <th></th>\n",
       "      <th>000</th>\n",
       "      <th>10</th>\n",
       "      <th>100</th>\n",
       "      <th>12</th>\n",
       "      <th>20</th>\n",
       "      <th>2003</th>\n",
       "      <th>2004</th>\n",
       "      <th>2005</th>\n",
       "      <th>able</th>\n",
       "      <th>access</th>\n",
       "      <th>...</th>\n",
       "      <th>week</th>\n",
       "      <th>went</th>\n",
       "      <th>williams</th>\n",
       "      <th>win</th>\n",
       "      <th>winner</th>\n",
       "      <th>woman</th>\n",
       "      <th>work</th>\n",
       "      <th>working</th>\n",
       "      <th>world</th>\n",
       "      <th>year</th>\n",
       "    </tr>\n",
       "  </thead>\n",
       "  <tbody>\n",
       "    <tr>\n",
       "      <th>0</th>\n",
       "      <td>0.000000</td>\n",
       "      <td>0.000000</td>\n",
       "      <td>0.0</td>\n",
       "      <td>0.000000</td>\n",
       "      <td>0.000000</td>\n",
       "      <td>0.000000</td>\n",
       "      <td>0.097100</td>\n",
       "      <td>0.000000</td>\n",
       "      <td>0.000000</td>\n",
       "      <td>0.0</td>\n",
       "      <td>...</td>\n",
       "      <td>0.084265</td>\n",
       "      <td>0.000000</td>\n",
       "      <td>0.0</td>\n",
       "      <td>0.00000</td>\n",
       "      <td>0.000000</td>\n",
       "      <td>0.0</td>\n",
       "      <td>0.0</td>\n",
       "      <td>0.0</td>\n",
       "      <td>0.000000</td>\n",
       "      <td>0.054470</td>\n",
       "    </tr>\n",
       "    <tr>\n",
       "      <th>1</th>\n",
       "      <td>0.000000</td>\n",
       "      <td>0.072852</td>\n",
       "      <td>0.0</td>\n",
       "      <td>0.000000</td>\n",
       "      <td>0.000000</td>\n",
       "      <td>0.077802</td>\n",
       "      <td>0.141668</td>\n",
       "      <td>0.000000</td>\n",
       "      <td>0.000000</td>\n",
       "      <td>0.0</td>\n",
       "      <td>...</td>\n",
       "      <td>0.000000</td>\n",
       "      <td>0.000000</td>\n",
       "      <td>0.0</td>\n",
       "      <td>0.00000</td>\n",
       "      <td>0.000000</td>\n",
       "      <td>0.0</td>\n",
       "      <td>0.0</td>\n",
       "      <td>0.0</td>\n",
       "      <td>0.000000</td>\n",
       "      <td>0.039736</td>\n",
       "    </tr>\n",
       "    <tr>\n",
       "      <th>2</th>\n",
       "      <td>0.038629</td>\n",
       "      <td>0.000000</td>\n",
       "      <td>0.0</td>\n",
       "      <td>0.000000</td>\n",
       "      <td>0.000000</td>\n",
       "      <td>0.000000</td>\n",
       "      <td>0.083856</td>\n",
       "      <td>0.092559</td>\n",
       "      <td>0.000000</td>\n",
       "      <td>0.0</td>\n",
       "      <td>...</td>\n",
       "      <td>0.000000</td>\n",
       "      <td>0.000000</td>\n",
       "      <td>0.0</td>\n",
       "      <td>0.00000</td>\n",
       "      <td>0.000000</td>\n",
       "      <td>0.0</td>\n",
       "      <td>0.0</td>\n",
       "      <td>0.0</td>\n",
       "      <td>0.307952</td>\n",
       "      <td>0.023520</td>\n",
       "    </tr>\n",
       "    <tr>\n",
       "      <th>3</th>\n",
       "      <td>0.025610</td>\n",
       "      <td>0.000000</td>\n",
       "      <td>0.0</td>\n",
       "      <td>0.000000</td>\n",
       "      <td>0.000000</td>\n",
       "      <td>0.061064</td>\n",
       "      <td>0.000000</td>\n",
       "      <td>0.000000</td>\n",
       "      <td>0.031972</td>\n",
       "      <td>0.0</td>\n",
       "      <td>...</td>\n",
       "      <td>0.000000</td>\n",
       "      <td>0.000000</td>\n",
       "      <td>0.0</td>\n",
       "      <td>0.00000</td>\n",
       "      <td>0.000000</td>\n",
       "      <td>0.0</td>\n",
       "      <td>0.0</td>\n",
       "      <td>0.0</td>\n",
       "      <td>0.000000</td>\n",
       "      <td>0.015594</td>\n",
       "    </tr>\n",
       "    <tr>\n",
       "      <th>4</th>\n",
       "      <td>0.000000</td>\n",
       "      <td>0.082339</td>\n",
       "      <td>0.0</td>\n",
       "      <td>0.000000</td>\n",
       "      <td>0.000000</td>\n",
       "      <td>0.000000</td>\n",
       "      <td>0.000000</td>\n",
       "      <td>0.000000</td>\n",
       "      <td>0.000000</td>\n",
       "      <td>0.0</td>\n",
       "      <td>...</td>\n",
       "      <td>0.069476</td>\n",
       "      <td>0.092917</td>\n",
       "      <td>0.0</td>\n",
       "      <td>0.00000</td>\n",
       "      <td>0.000000</td>\n",
       "      <td>0.0</td>\n",
       "      <td>0.0</td>\n",
       "      <td>0.0</td>\n",
       "      <td>0.000000</td>\n",
       "      <td>0.044910</td>\n",
       "    </tr>\n",
       "    <tr>\n",
       "      <th>...</th>\n",
       "      <td>...</td>\n",
       "      <td>...</td>\n",
       "      <td>...</td>\n",
       "      <td>...</td>\n",
       "      <td>...</td>\n",
       "      <td>...</td>\n",
       "      <td>...</td>\n",
       "      <td>...</td>\n",
       "      <td>...</td>\n",
       "      <td>...</td>\n",
       "      <td>...</td>\n",
       "      <td>...</td>\n",
       "      <td>...</td>\n",
       "      <td>...</td>\n",
       "      <td>...</td>\n",
       "      <td>...</td>\n",
       "      <td>...</td>\n",
       "      <td>...</td>\n",
       "      <td>...</td>\n",
       "      <td>...</td>\n",
       "      <td>...</td>\n",
       "    </tr>\n",
       "    <tr>\n",
       "      <th>1485</th>\n",
       "      <td>0.104205</td>\n",
       "      <td>0.000000</td>\n",
       "      <td>0.0</td>\n",
       "      <td>0.273268</td>\n",
       "      <td>0.000000</td>\n",
       "      <td>0.000000</td>\n",
       "      <td>0.000000</td>\n",
       "      <td>0.000000</td>\n",
       "      <td>0.000000</td>\n",
       "      <td>0.0</td>\n",
       "      <td>...</td>\n",
       "      <td>0.000000</td>\n",
       "      <td>0.000000</td>\n",
       "      <td>0.0</td>\n",
       "      <td>0.11055</td>\n",
       "      <td>0.308733</td>\n",
       "      <td>0.0</td>\n",
       "      <td>0.0</td>\n",
       "      <td>0.0</td>\n",
       "      <td>0.000000</td>\n",
       "      <td>0.000000</td>\n",
       "    </tr>\n",
       "    <tr>\n",
       "      <th>1486</th>\n",
       "      <td>0.000000</td>\n",
       "      <td>0.000000</td>\n",
       "      <td>0.0</td>\n",
       "      <td>0.000000</td>\n",
       "      <td>0.000000</td>\n",
       "      <td>0.000000</td>\n",
       "      <td>0.000000</td>\n",
       "      <td>0.000000</td>\n",
       "      <td>0.000000</td>\n",
       "      <td>0.0</td>\n",
       "      <td>...</td>\n",
       "      <td>0.034785</td>\n",
       "      <td>0.000000</td>\n",
       "      <td>0.0</td>\n",
       "      <td>0.00000</td>\n",
       "      <td>0.000000</td>\n",
       "      <td>0.0</td>\n",
       "      <td>0.0</td>\n",
       "      <td>0.0</td>\n",
       "      <td>0.000000</td>\n",
       "      <td>0.022485</td>\n",
       "    </tr>\n",
       "    <tr>\n",
       "      <th>1487</th>\n",
       "      <td>0.000000</td>\n",
       "      <td>0.000000</td>\n",
       "      <td>0.0</td>\n",
       "      <td>0.104458</td>\n",
       "      <td>0.000000</td>\n",
       "      <td>0.189953</td>\n",
       "      <td>0.259411</td>\n",
       "      <td>0.095444</td>\n",
       "      <td>0.000000</td>\n",
       "      <td>0.0</td>\n",
       "      <td>...</td>\n",
       "      <td>0.000000</td>\n",
       "      <td>0.000000</td>\n",
       "      <td>0.0</td>\n",
       "      <td>0.00000</td>\n",
       "      <td>0.000000</td>\n",
       "      <td>0.0</td>\n",
       "      <td>0.0</td>\n",
       "      <td>0.0</td>\n",
       "      <td>0.000000</td>\n",
       "      <td>0.291041</td>\n",
       "    </tr>\n",
       "    <tr>\n",
       "      <th>1488</th>\n",
       "      <td>0.000000</td>\n",
       "      <td>0.076864</td>\n",
       "      <td>0.0</td>\n",
       "      <td>0.045141</td>\n",
       "      <td>0.000000</td>\n",
       "      <td>0.000000</td>\n",
       "      <td>0.074735</td>\n",
       "      <td>0.041246</td>\n",
       "      <td>0.000000</td>\n",
       "      <td>0.0</td>\n",
       "      <td>...</td>\n",
       "      <td>0.000000</td>\n",
       "      <td>0.000000</td>\n",
       "      <td>0.0</td>\n",
       "      <td>0.00000</td>\n",
       "      <td>0.000000</td>\n",
       "      <td>0.0</td>\n",
       "      <td>0.0</td>\n",
       "      <td>0.0</td>\n",
       "      <td>0.000000</td>\n",
       "      <td>0.020962</td>\n",
       "    </tr>\n",
       "    <tr>\n",
       "      <th>1489</th>\n",
       "      <td>0.050866</td>\n",
       "      <td>0.000000</td>\n",
       "      <td>0.0</td>\n",
       "      <td>0.000000</td>\n",
       "      <td>0.065785</td>\n",
       "      <td>0.000000</td>\n",
       "      <td>0.000000</td>\n",
       "      <td>0.000000</td>\n",
       "      <td>0.000000</td>\n",
       "      <td>0.0</td>\n",
       "      <td>...</td>\n",
       "      <td>0.000000</td>\n",
       "      <td>0.000000</td>\n",
       "      <td>0.0</td>\n",
       "      <td>0.00000</td>\n",
       "      <td>0.000000</td>\n",
       "      <td>0.0</td>\n",
       "      <td>0.0</td>\n",
       "      <td>0.0</td>\n",
       "      <td>0.000000</td>\n",
       "      <td>0.000000</td>\n",
       "    </tr>\n",
       "  </tbody>\n",
       "</table>\n",
       "<p>1490 rows × 400 columns</p>\n",
       "</div>"
      ],
      "text/plain": [
       "           000        10  100        12        20      2003      2004  \\\n",
       "0     0.000000  0.000000  0.0  0.000000  0.000000  0.000000  0.097100   \n",
       "1     0.000000  0.072852  0.0  0.000000  0.000000  0.077802  0.141668   \n",
       "2     0.038629  0.000000  0.0  0.000000  0.000000  0.000000  0.083856   \n",
       "3     0.025610  0.000000  0.0  0.000000  0.000000  0.061064  0.000000   \n",
       "4     0.000000  0.082339  0.0  0.000000  0.000000  0.000000  0.000000   \n",
       "...        ...       ...  ...       ...       ...       ...       ...   \n",
       "1485  0.104205  0.000000  0.0  0.273268  0.000000  0.000000  0.000000   \n",
       "1486  0.000000  0.000000  0.0  0.000000  0.000000  0.000000  0.000000   \n",
       "1487  0.000000  0.000000  0.0  0.104458  0.000000  0.189953  0.259411   \n",
       "1488  0.000000  0.076864  0.0  0.045141  0.000000  0.000000  0.074735   \n",
       "1489  0.050866  0.000000  0.0  0.000000  0.065785  0.000000  0.000000   \n",
       "\n",
       "          2005      able  access  ...      week      went  williams      win  \\\n",
       "0     0.000000  0.000000     0.0  ...  0.084265  0.000000       0.0  0.00000   \n",
       "1     0.000000  0.000000     0.0  ...  0.000000  0.000000       0.0  0.00000   \n",
       "2     0.092559  0.000000     0.0  ...  0.000000  0.000000       0.0  0.00000   \n",
       "3     0.000000  0.031972     0.0  ...  0.000000  0.000000       0.0  0.00000   \n",
       "4     0.000000  0.000000     0.0  ...  0.069476  0.092917       0.0  0.00000   \n",
       "...        ...       ...     ...  ...       ...       ...       ...      ...   \n",
       "1485  0.000000  0.000000     0.0  ...  0.000000  0.000000       0.0  0.11055   \n",
       "1486  0.000000  0.000000     0.0  ...  0.034785  0.000000       0.0  0.00000   \n",
       "1487  0.095444  0.000000     0.0  ...  0.000000  0.000000       0.0  0.00000   \n",
       "1488  0.041246  0.000000     0.0  ...  0.000000  0.000000       0.0  0.00000   \n",
       "1489  0.000000  0.000000     0.0  ...  0.000000  0.000000       0.0  0.00000   \n",
       "\n",
       "        winner  woman  work  working     world      year  \n",
       "0     0.000000    0.0   0.0      0.0  0.000000  0.054470  \n",
       "1     0.000000    0.0   0.0      0.0  0.000000  0.039736  \n",
       "2     0.000000    0.0   0.0      0.0  0.307952  0.023520  \n",
       "3     0.000000    0.0   0.0      0.0  0.000000  0.015594  \n",
       "4     0.000000    0.0   0.0      0.0  0.000000  0.044910  \n",
       "...        ...    ...   ...      ...       ...       ...  \n",
       "1485  0.308733    0.0   0.0      0.0  0.000000  0.000000  \n",
       "1486  0.000000    0.0   0.0      0.0  0.000000  0.022485  \n",
       "1487  0.000000    0.0   0.0      0.0  0.000000  0.291041  \n",
       "1488  0.000000    0.0   0.0      0.0  0.000000  0.020962  \n",
       "1489  0.000000    0.0   0.0      0.0  0.000000  0.000000  \n",
       "\n",
       "[1490 rows x 400 columns]"
      ]
     },
     "execution_count": 10,
     "metadata": {},
     "output_type": "execute_result"
    }
   ],
   "source": [
    "# instantiate a tf-idf vectorizer\n",
    "vect = TfidfVectorizer(stop_words=ENGLISH_STOP_WORDS, ngram_range=(1,2), max_features=400).fit(data.Text)\n",
    "X=vect.transform(data['Text'])\n",
    "# create a dataframe to check the document-term matrix using tf-idf values\n",
    "Text_transformed = pd.DataFrame(X.toarray(),columns=vect.get_feature_names_out())\n",
    "Text_transformed"
   ]
  },
  {
   "cell_type": "markdown",
   "id": "30040e64",
   "metadata": {},
   "source": [
    "## Modelling"
   ]
  },
  {
   "cell_type": "code",
   "execution_count": 11,
   "id": "3502d0c2",
   "metadata": {},
   "outputs": [],
   "source": [
    "#dependent variable is stored in y\n",
    "y=data['Category']\n",
    "#independent variable is stored in x\n",
    "x=Text_transformed"
   ]
  },
  {
   "cell_type": "code",
   "execution_count": 12,
   "id": "6ed04251",
   "metadata": {},
   "outputs": [],
   "source": [
    "#splitting the dataset for training the model and validating\n",
    "from sklearn.model_selection import train_test_split\n",
    "x_train,x_test,y_train,y_test=train_test_split(x,y,random_state=42,test_size=0.2)"
   ]
  },
  {
   "cell_type": "markdown",
   "id": "47bb8aee",
   "metadata": {},
   "source": [
    "### Logistic Regression"
   ]
  },
  {
   "cell_type": "code",
   "execution_count": 13,
   "id": "8baddd60",
   "metadata": {},
   "outputs": [
    {
     "name": "stdout",
     "output_type": "stream",
     "text": [
      "Confusion matrix is: \n",
      " [[63  0  0  0  0]\n",
      " [ 0 73  2  0  0]\n",
      " [ 0  3 52  0  1]\n",
      " [ 1  1  1 43  0]\n",
      " [ 2  0  1  0 55]]\n",
      "              precision    recall  f1-score   support\n",
      "\n",
      "           0       0.95      1.00      0.98        63\n",
      "           1       0.95      0.97      0.96        75\n",
      "           2       0.93      0.93      0.93        56\n",
      "           3       1.00      0.93      0.97        46\n",
      "           4       0.98      0.95      0.96        58\n",
      "\n",
      "    accuracy                           0.96       298\n",
      "   macro avg       0.96      0.96      0.96       298\n",
      "weighted avg       0.96      0.96      0.96       298\n",
      "\n"
     ]
    }
   ],
   "source": [
    "from sklearn.linear_model import LogisticRegression\n",
    "log_reg=LogisticRegression()\n",
    "log_reg_model=log_reg.fit(x_train,y_train)\n",
    "log_pred=log_reg_model.predict(x_test)\n",
    "\n",
    "from sklearn.metrics import confusion_matrix,classification_report,accuracy_score\n",
    "log_acc=accuracy_score(y_test,log_pred)\n",
    "print('Confusion matrix is: \\n', confusion_matrix(y_test,log_pred))\n",
    "print(classification_report(y_test,log_pred))"
   ]
  },
  {
   "cell_type": "markdown",
   "id": "1c74f825",
   "metadata": {},
   "source": [
    "### K-Nearest Neighours"
   ]
  },
  {
   "cell_type": "code",
   "execution_count": 14,
   "id": "51d38338",
   "metadata": {},
   "outputs": [
    {
     "data": {
      "image/png": "[encoded data removed]",
      "text/plain": [
       "<Figure size 640x480 with 1 Axes>"
      ]
     },
     "metadata": {},
     "output_type": "display_data"
    }
   ],
   "source": [
    "from sklearn.neighbors import KNeighborsClassifier\n",
    "from sklearn.metrics import accuracy_score\n",
    "\n",
    "acc_matrix=[]\n",
    "neighbours=np.arange(2,16)\n",
    "\n",
    "for k in neighbours:\n",
    "    knn=KNeighborsClassifier(n_neighbors=k)\n",
    "    knn_model=knn.fit(x_train,y_train)\n",
    "    knn_model_pred=knn_model.predict(x_test)\n",
    "    acc=accuracy_score(y_test,knn_model_pred)\n",
    "    acc_matrix.append(acc)\n",
    "\n",
    "plt.plot(neighbours,acc_matrix,'o-')\n",
    "plt.xlabel('k-value')\n",
    "plt.ylabel('Accuracy score')\n",
    "plt.show()"
   ]
  },
  {
   "cell_type": "code",
   "execution_count": 15,
   "id": "e5c445dd",
   "metadata": {},
   "outputs": [
    {
     "name": "stdout",
     "output_type": "stream",
     "text": [
      "Confusion matrix is: \n",
      " [[63  0  0  0  0]\n",
      " [ 0 68  1  4  2]\n",
      " [ 1  3 51  0  1]\n",
      " [ 1  0  2 43  0]\n",
      " [ 2  2  3  2 49]]\n",
      "              precision    recall  f1-score   support\n",
      "\n",
      "           0       0.94      1.00      0.97        63\n",
      "           1       0.93      0.91      0.92        75\n",
      "           2       0.89      0.91      0.90        56\n",
      "           3       0.88      0.93      0.91        46\n",
      "           4       0.94      0.84      0.89        58\n",
      "\n",
      "    accuracy                           0.92       298\n",
      "   macro avg       0.92      0.92      0.92       298\n",
      "weighted avg       0.92      0.92      0.92       298\n",
      "\n"
     ]
    }
   ],
   "source": [
    "knn=KNeighborsClassifier(n_neighbors=9)\n",
    "knn_model=knn.fit(x_train,y_train)\n",
    "knn_model_pred=knn_model.predict(x_test)\n",
    "knn_acc=accuracy_score(y_test,knn_model_pred)\n",
    "print('Confusion matrix is: \\n', confusion_matrix(y_test,knn_model_pred))\n",
    "print(classification_report(y_test,knn_model_pred))"
   ]
  },
  {
   "cell_type": "markdown",
   "id": "0773a6ff",
   "metadata": {},
   "source": [
    "### Support Vector Machine"
   ]
  },
  {
   "cell_type": "code",
   "execution_count": 16,
   "id": "f57f4a91",
   "metadata": {},
   "outputs": [
    {
     "name": "stdout",
     "output_type": "stream",
     "text": [
      "Confusion matrix is: \n",
      " [[63  0  0  0  0]\n",
      " [ 0 73  2  0  0]\n",
      " [ 0  3 52  1  0]\n",
      " [ 1  1  0 44  0]\n",
      " [ 1  0  1  0 56]]\n",
      "              precision    recall  f1-score   support\n",
      "\n",
      "           0       0.97      1.00      0.98        63\n",
      "           1       0.95      0.97      0.96        75\n",
      "           2       0.95      0.93      0.94        56\n",
      "           3       0.98      0.96      0.97        46\n",
      "           4       1.00      0.97      0.98        58\n",
      "\n",
      "    accuracy                           0.97       298\n",
      "   macro avg       0.97      0.96      0.97       298\n",
      "weighted avg       0.97      0.97      0.97       298\n",
      "\n"
     ]
    }
   ],
   "source": [
    "from sklearn.svm import SVC\n",
    "#linear kernel\n",
    "svm_clf=SVC(kernel='linear')\n",
    "svm_model=svm_clf.fit(x_train,y_train)\n",
    "svm_pred=svm_model.predict(x_test)\n",
    "svm_acc=accuracy_score(y_test,svm_pred)\n",
    "print('Confusion matrix is: \\n', confusion_matrix(y_test,svm_pred))\n",
    "print(classification_report(y_test,svm_pred))"
   ]
  },
  {
   "cell_type": "markdown",
   "id": "b9fd2fe9",
   "metadata": {},
   "source": [
    "### Decision Tree"
   ]
  },
  {
   "cell_type": "code",
   "execution_count": 17,
   "id": "509eb99d",
   "metadata": {},
   "outputs": [
    {
     "name": "stdout",
     "output_type": "stream",
     "text": [
      "Confusion matrix is: \n",
      " [[63  0  0  0  0]\n",
      " [ 0 73  2  0  0]\n",
      " [ 0  3 52  1  0]\n",
      " [ 1  1  0 44  0]\n",
      " [ 1  0  1  0 56]]\n",
      "              precision    recall  f1-score   support\n",
      "\n",
      "           0       0.97      1.00      0.98        63\n",
      "           1       0.95      0.97      0.96        75\n",
      "           2       0.95      0.93      0.94        56\n",
      "           3       0.98      0.96      0.97        46\n",
      "           4       1.00      0.97      0.98        58\n",
      "\n",
      "    accuracy                           0.97       298\n",
      "   macro avg       0.97      0.96      0.97       298\n",
      "weighted avg       0.97      0.97      0.97       298\n",
      "\n"
     ]
    }
   ],
   "source": [
    "from sklearn.tree import DecisionTreeClassifier\n",
    "dt=DecisionTreeClassifier()\n",
    "dt_model=dt.fit(x_train,y_train)\n",
    "dt_pred=dt_model.predict(x_test)\n",
    "dt_acc=accuracy_score(y_test,dt_pred)\n",
    "print('Confusion matrix is: \\n', confusion_matrix(y_test,svm_pred))\n",
    "print(classification_report(y_test,svm_pred))"
   ]
  },
  {
   "cell_type": "markdown",
   "id": "e66fa1b5",
   "metadata": {},
   "source": [
    "### Naive Bayes"
   ]
  },
  {
   "cell_type": "code",
   "execution_count": 18,
   "id": "5ca325ac",
   "metadata": {},
   "outputs": [
    {
     "name": "stdout",
     "output_type": "stream",
     "text": [
      "Confusion matrix is: \n",
      " [[60  1  0  2  0]\n",
      " [ 0 65  2  3  5]\n",
      " [ 0  3 53  0  0]\n",
      " [ 0  0  0 43  3]\n",
      " [ 0  1  3  0 54]]\n",
      "              precision    recall  f1-score   support\n",
      "\n",
      "           0       1.00      0.95      0.98        63\n",
      "           1       0.93      0.87      0.90        75\n",
      "           2       0.91      0.95      0.93        56\n",
      "           3       0.90      0.93      0.91        46\n",
      "           4       0.87      0.93      0.90        58\n",
      "\n",
      "    accuracy                           0.92       298\n",
      "   macro avg       0.92      0.93      0.92       298\n",
      "weighted avg       0.92      0.92      0.92       298\n",
      "\n"
     ]
    }
   ],
   "source": [
    "from sklearn.naive_bayes import GaussianNB  \n",
    "nb = GaussianNB()  \n",
    "nb_model=nb.fit(x_train, y_train)  \n",
    "nb_pred=nb_model.predict(x_test)\n",
    "nb_acc=accuracy_score(y_test,nb_pred)\n",
    "print('Confusion matrix is: \\n', confusion_matrix(y_test,nb_pred))\n",
    "print(classification_report(y_test,nb_pred))"
   ]
  },
  {
   "cell_type": "markdown",
   "id": "b99da065",
   "metadata": {},
   "source": [
    "### Gradient Boost"
   ]
  },
  {
   "cell_type": "code",
   "execution_count": 19,
   "id": "3c5ce804",
   "metadata": {},
   "outputs": [
    {
     "name": "stdout",
     "output_type": "stream",
     "text": [
      "Confusion matrix is: \n",
      " [[63  0  0  0  0]\n",
      " [ 0 71  3  0  1]\n",
      " [ 0  1 55  0  0]\n",
      " [ 1  0  0 44  1]\n",
      " [ 0  2  0  1 55]]\n",
      "              precision    recall  f1-score   support\n",
      "\n",
      "           0       0.98      1.00      0.99        63\n",
      "           1       0.96      0.95      0.95        75\n",
      "           2       0.95      0.98      0.96        56\n",
      "           3       0.98      0.96      0.97        46\n",
      "           4       0.96      0.95      0.96        58\n",
      "\n",
      "    accuracy                           0.97       298\n",
      "   macro avg       0.97      0.97      0.97       298\n",
      "weighted avg       0.97      0.97      0.97       298\n",
      "\n"
     ]
    }
   ],
   "source": [
    "from sklearn.ensemble import GradientBoostingClassifier\n",
    "gb=GradientBoostingClassifier()\n",
    "gb_model=gb.fit(x_train,y_train)\n",
    "gb_pred=gb_model.predict(x_test)\n",
    "gb_acc=accuracy_score(y_test,gb_pred)\n",
    "print('Confusion matrix is: \\n', confusion_matrix(y_test,gb_pred))\n",
    "print(classification_report(y_test,gb_pred))"
   ]
  },
  {
   "cell_type": "markdown",
   "id": "499afcd8",
   "metadata": {},
   "source": [
    "### XGBoost"
   ]
  },
  {
   "cell_type": "code",
   "execution_count": 20,
   "id": "5e416f36",
   "metadata": {},
   "outputs": [
    {
     "name": "stdout",
     "output_type": "stream",
     "text": [
      "Confusion matrix is: \n",
      " [[63  0  0  0  0]\n",
      " [ 0 72  2  0  1]\n",
      " [ 0  2 54  0  0]\n",
      " [ 1  0  0 45  0]\n",
      " [ 1  1  0  1 55]]\n",
      "              precision    recall  f1-score   support\n",
      "\n",
      "           0       0.97      1.00      0.98        63\n",
      "           1       0.96      0.96      0.96        75\n",
      "           2       0.96      0.96      0.96        56\n",
      "           3       0.98      0.98      0.98        46\n",
      "           4       0.98      0.95      0.96        58\n",
      "\n",
      "    accuracy                           0.97       298\n",
      "   macro avg       0.97      0.97      0.97       298\n",
      "weighted avg       0.97      0.97      0.97       298\n",
      "\n"
     ]
    }
   ],
   "source": [
    "from xgboost import XGBClassifier\n",
    "xgb=XGBClassifier()\n",
    "xgb_model=xgb.fit(x_train,y_train)\n",
    "xgb_pred=xgb_model.predict(x_test)\n",
    "xgb_acc=accuracy_score(y_test,xgb_pred)\n",
    "print('Confusion matrix is: \\n', confusion_matrix(y_test,xgb_pred))\n",
    "print(classification_report(y_test,xgb_pred))"
   ]
  },
  {
   "cell_type": "markdown",
   "id": "20a05411",
   "metadata": {},
   "source": [
    "### AdaBoost"
   ]
  },
  {
   "cell_type": "code",
   "execution_count": 21,
   "id": "08afbfd3",
   "metadata": {},
   "outputs": [
    {
     "name": "stdout",
     "output_type": "stream",
     "text": [
      "Confusion matrix is: \n",
      " [[61  0  1  1  0]\n",
      " [ 5 59  7  3  1]\n",
      " [ 2  8 45  0  1]\n",
      " [ 3  1  0 41  1]\n",
      " [ 4 11  0  1 42]]\n",
      "              precision    recall  f1-score   support\n",
      "\n",
      "           0       0.81      0.97      0.88        63\n",
      "           1       0.75      0.79      0.77        75\n",
      "           2       0.85      0.80      0.83        56\n",
      "           3       0.89      0.89      0.89        46\n",
      "           4       0.93      0.72      0.82        58\n",
      "\n",
      "    accuracy                           0.83       298\n",
      "   macro avg       0.85      0.83      0.84       298\n",
      "weighted avg       0.84      0.83      0.83       298\n",
      "\n"
     ]
    }
   ],
   "source": [
    "from sklearn.ensemble import AdaBoostClassifier\n",
    "adb=AdaBoostClassifier()\n",
    "adb_model=adb.fit(x_train,y_train)\n",
    "adb_pred=adb_model.predict(x_test)\n",
    "adb_acc=accuracy_score(y_test,adb_pred)\n",
    "print('Confusion matrix is: \\n', confusion_matrix(y_test,adb_pred))\n",
    "print(classification_report(y_test,adb_pred))"
   ]
  },
  {
   "cell_type": "markdown",
   "id": "3d0d3589",
   "metadata": {},
   "source": [
    "### Random Forest"
   ]
  },
  {
   "cell_type": "code",
   "execution_count": 22,
   "id": "f678d627",
   "metadata": {},
   "outputs": [
    {
     "name": "stdout",
     "output_type": "stream",
     "text": [
      "Confusion matrix is: \n",
      " [[63  0  0  0  0]\n",
      " [ 0 72  2  0  1]\n",
      " [ 0  1 55  0  0]\n",
      " [ 0  0  0 46  0]\n",
      " [ 0  0  1  1 56]]\n",
      "              precision    recall  f1-score   support\n",
      "\n",
      "           0       1.00      1.00      1.00        63\n",
      "           1       0.99      0.96      0.97        75\n",
      "           2       0.95      0.98      0.96        56\n",
      "           3       0.98      1.00      0.99        46\n",
      "           4       0.98      0.97      0.97        58\n",
      "\n",
      "    accuracy                           0.98       298\n",
      "   macro avg       0.98      0.98      0.98       298\n",
      "weighted avg       0.98      0.98      0.98       298\n",
      "\n"
     ]
    }
   ],
   "source": [
    "from sklearn.ensemble import RandomForestClassifier\n",
    "rf=RandomForestClassifier()\n",
    "rf_model=rf.fit(x_train,y_train)\n",
    "rf_pred=rf_model.predict(x_test)\n",
    "rf_acc=accuracy_score(y_test,rf_pred)\n",
    "print('Confusion matrix is: \\n', confusion_matrix(y_test,rf_pred))\n",
    "print(classification_report(y_test,rf_pred))"
   ]
  },
  {
   "cell_type": "markdown",
   "id": "83f015ea",
   "metadata": {},
   "source": [
    "### MLP"
   ]
  },
  {
   "cell_type": "code",
   "execution_count": 23,
   "id": "411a25b6",
   "metadata": {},
   "outputs": [
    {
     "name": "stdout",
     "output_type": "stream",
     "text": [
      "Confusion matrix is: \n",
      " [[63  0  0  0  0]\n",
      " [ 0 74  1  0  0]\n",
      " [ 1  1 53  1  0]\n",
      " [ 1  1  1 43  0]\n",
      " [ 1  0  1  0 56]]\n",
      "              precision    recall  f1-score   support\n",
      "\n",
      "           0       0.95      1.00      0.98        63\n",
      "           1       0.97      0.99      0.98        75\n",
      "           2       0.95      0.95      0.95        56\n",
      "           3       0.98      0.93      0.96        46\n",
      "           4       1.00      0.97      0.98        58\n",
      "\n",
      "    accuracy                           0.97       298\n",
      "   macro avg       0.97      0.97      0.97       298\n",
      "weighted avg       0.97      0.97      0.97       298\n",
      "\n"
     ]
    }
   ],
   "source": [
    "from sklearn.neural_network import MLPClassifier\n",
    "mlp=MLPClassifier(random_state=10)\n",
    "mlp_model=mlp.fit(x_train,y_train)\n",
    "mlp_pred=mlp_model.predict(x_test)\n",
    "mlp_acc=accuracy_score(y_test,mlp_pred)\n",
    "print('Confusion matrix is: \\n', confusion_matrix(y_test,mlp_pred))\n",
    "print(classification_report(y_test,mlp_pred))"
   ]
  },
  {
   "cell_type": "markdown",
   "id": "f3b7783e",
   "metadata": {},
   "source": [
    "# Summary"
   ]
  },
  {
   "cell_type": "code",
   "execution_count": 24,
   "id": "cc4c5e3d",
   "metadata": {},
   "outputs": [
    {
     "name": "stdout",
     "output_type": "stream",
     "text": [
      "Accuracy for different models:\n",
      "\n",
      "Logistic Regression : 95.97%\n",
      "K Nearest Neighbours : 91.95%\n",
      "Support Vector Machine : 96.64%\n",
      "Naive Bayes : 92.28%\n",
      "Gradient Boost : 96.64%\n",
      "XGBoost : 96.98%\n",
      "AdaBoost : 83.22%\n",
      "Random Forest : 97.99%\n",
      "MLP : 96.98%\n"
     ]
    }
   ],
   "source": [
    "print('Accuracy for different models:\\n')\n",
    "print('Logistic Regression : {:.2%}'.format(log_acc))\n",
    "print('K Nearest Neighbours : {:.2%}'.format(knn_acc))\n",
    "print('Support Vector Machine : {:.2%}'.format(svm_acc))\n",
    "print('Naive Bayes : {:.2%}'.format(nb_acc))\n",
    "print('Gradient Boost : {:.2%}'.format(gb_acc))\n",
    "print('XGBoost : {:.2%}'.format(xgb_acc))\n",
    "print('AdaBoost : {:.2%}'.format(adb_acc))\n",
    "print('Random Forest : {:.2%}'.format(rf_acc))\n",
    "print('MLP : {:.2%}'.format(mlp_acc))"
   ]
  }
 ],
 "metadata": {
  "kernelspec": {
   "display_name": "Python 3 (ipykernel)",
   "language": "python",
   "name": "python3"
  },
  "language_info": {
   "codemirror_mode": {
    "name": "ipython",
    "version": 3
   },
   "file_extension": ".py",
   "mimetype": "text/x-python",
   "name": "python",
   "nbconvert_exporter": "python",
   "pygments_lexer": "ipython3",
   "version": "3.9.7"
  }
 },
 "nbformat": 4,
 "nbformat_minor": 5
}
